{
 "cells": [
  {
   "cell_type": "markdown",
   "metadata": {
    "colab_type": "text",
    "id": "iNNxFcLYz6eI"
   },
   "source": [
    "# **Assignment** -** KNN** (**K Nearest Neighbour**) \n",
    "\n",
    "    TASK-\n",
    "    Question: 1  \n",
    "    Import the Data set Sklearn\n",
    "\n",
    "    Question: 2  \n",
    "    Save X(features) and y(target) as data frames\n",
    "\n",
    "    Question: 3  \n",
    "    Split the dataset into training and testing sets\n",
    "\n",
    "    Question: 4  \n",
    "    Use KNN\n",
    "\n",
    "    Question: 5  \n",
    "    Print the knn score."
   ]
  },
  {
   "cell_type": "markdown",
   "metadata": {
    "colab_type": "text",
    "id": "LGP2L8PL-2wL"
   },
   "source": [
    "**Q-1.)**"
   ]
  },
  {
   "cell_type": "code",
   "execution_count": 19,
   "metadata": {
    "colab": {
     "base_uri": "https://localhost:8080/",
     "height": 158
    },
    "colab_type": "code",
    "id": "MK6qwE5Cza9f",
    "outputId": "995b5358-e2ce-44ed-9c3a-7e4e473ba7c7"
   },
   "outputs": [
    {
     "name": "stdout",
     "output_type": "stream",
     "text": [
      "[                   0              1\n",
      "0            Classes             10\n",
      "1  Samples per class           ~180\n",
      "2      Samples total           1797\n",
      "3     Dimensionality             64\n",
      "4           Features  integers 0-16,              0                                                  1\n",
      "0  Parameters:  n_class : integer, between 0 and 10, optional ...\n",
      "1     Returns:  data : Bunch Dictionary-like object, the inter...]\n"
     ]
    }
   ],
   "source": [
    "#importing libraries\n",
    "import pandas as pd\n",
    "import numpy as np\n",
    "import matplotlib.pyplot as plt\n",
    "\n",
    "url = 'http://scikit-learn.org/stable/modules/generated/sklearn.datasets.load_digits.html'\n",
    "data = pd.read_html(url)\n",
    "\n",
    "print(data)"
   ]
  },
  {
   "cell_type": "code",
   "execution_count": 20,
   "metadata": {
    "colab": {
     "base_uri": "https://localhost:8080/",
     "height": 34
    },
    "colab_type": "code",
    "id": "aAKokvs24A97",
    "outputId": "46a9c39d-4441-4f28-9821-9c6c54742ba9"
   },
   "outputs": [
    {
     "data": {
      "text/plain": [
       "(1797, 64)"
      ]
     },
     "execution_count": 20,
     "metadata": {
      "tags": []
     },
     "output_type": "execute_result"
    }
   ],
   "source": [
    "#importing dataset\n",
    "from sklearn.datasets import load_digits\n",
    "\n",
    "digit = load_digits()\n",
    "digit.data.shape"
   ]
  },
  {
   "cell_type": "markdown",
   "metadata": {
    "colab_type": "text",
    "id": "TK8E9ppe-wXi"
   },
   "source": [
    "**q-2.) **"
   ]
  },
  {
   "cell_type": "code",
   "execution_count": 21,
   "metadata": {
    "colab": {
     "base_uri": "https://localhost:8080/",
     "height": 237
    },
    "colab_type": "code",
    "id": "tP_IR7g84su4",
    "outputId": "b91efc11-1ca9-4b8b-961b-df2c08955172"
   },
   "outputs": [
    {
     "data": {
      "image/png": "[encoded data removed]",
      "text/plain": [
       "<matplotlib.figure.Figure at 0x7f1bf09d06d8>"
      ]
     },
     "metadata": {
      "tags": []
     },
     "output_type": "display_data"
    }
   ],
   "source": [
    "#label datashape\n",
    "digit.target.shape\n",
    "\n",
    "#look of image in digit dataset\n",
    "plt.figure(figsize = (10,4))\n",
    "for index, (image,label) in enumerate(zip(digit.data[0:3], digit.target[0:3])):\n",
    "  plt.subplot(1, 3, index+1)\n",
    "  plt.imshow(np.reshape(image ,(8,8)), cmap=plt.cm.gray)\n",
    "  plt.title('Training %i\\n'%label,fontsize = 10)"
   ]
  },
  {
   "cell_type": "markdown",
   "metadata": {
    "colab_type": "text",
    "id": "T-VYa8Lk-cdr"
   },
   "source": [
    "q-3.) **Splitting the dataset into training and testing**"
   ]
  },
  {
   "cell_type": "code",
   "execution_count": 22,
   "metadata": {
    "colab": {
     "base_uri": "https://localhost:8080/",
     "height": 87
    },
    "colab_type": "code",
    "id": "yIPFJD2M5VQ8",
    "outputId": "c6add507-736e-4289-be8e-bf1d36527c00"
   },
   "outputs": [
    {
     "data": {
      "text/plain": [
       "LogisticRegression(C=1.0, class_weight=None, dual=False, fit_intercept=True,\n",
       "          intercept_scaling=1, max_iter=100, multi_class='ovr', n_jobs=1,\n",
       "          penalty='l2', random_state=None, solver='liblinear', tol=0.0001,\n",
       "          verbose=0, warm_start=False)"
      ]
     },
     "execution_count": 22,
     "metadata": {
      "tags": []
     },
     "output_type": "execute_result"
    }
   ],
   "source": [
    "from sklearn.model_selection import train_test_split\n",
    "\n",
    "x_train, x_test, y_train , y_test = train_test_split(digit.data , digit.target, test_size=0.30 , random_state=20)\n",
    "\n",
    "#importing logistic Regression model\n",
    "from sklearn.linear_model import LogisticRegression\n",
    "\n",
    "#initialise it to a variable\n",
    "l_reg = LogisticRegression()\n",
    "\n",
    "#now training of model on given dataset\n",
    "l_reg.fit(x_train, y_train)"
   ]
  },
  {
   "cell_type": "code",
   "execution_count": 0,
   "metadata": {
    "colab": {},
    "colab_type": "code",
    "id": "Ctd6dpp95kTf"
   },
   "outputs": [],
   "source": [
    "#prediction part \n",
    "prediction = l_reg.predict(x_test)"
   ]
  },
  {
   "cell_type": "markdown",
   "metadata": {
    "colab_type": "text",
    "id": "x-8hhlzu-TpI"
   },
   "source": [
    "q-4.) **Use KNN**"
   ]
  },
  {
   "cell_type": "code",
   "execution_count": 0,
   "metadata": {
    "colab": {},
    "colab_type": "code",
    "id": "QjnuQW3O5zV-"
   },
   "outputs": [],
   "source": [
    "from sklearn.neighbors import KNeighborsClassifier\n",
    "knn = KNeighborsClassifier(n_neighbors = 5)\n",
    "\n",
    "knn.fit(x_train , y_train)\n",
    "\n",
    "#prediction part\n",
    "pred = knn.predict(x_test)"
   ]
  },
  {
   "cell_type": "markdown",
   "metadata": {
    "colab_type": "text",
    "id": "pwnlXKUQ-EJa"
   },
   "source": [
    "q-5.)** Print the knn score**"
   ]
  },
  {
   "cell_type": "code",
   "execution_count": 25,
   "metadata": {
    "colab": {
     "base_uri": "https://localhost:8080/",
     "height": 34
    },
    "colab_type": "code",
    "id": "ATAciqeY73h8",
    "outputId": "fee530a3-588e-4f12-ab92-0b17c29f2a12"
   },
   "outputs": [
    {
     "name": "stdout",
     "output_type": "stream",
     "text": [
      "0.9833333333333333\n"
     ]
    }
   ],
   "source": [
    "#knn score\n",
    "from sklearn.metrics import accuracy_score\n",
    "score = accuracy_score(y_test , pred)\n",
    "\n",
    "print(score)"
   ]
  },
  {
   "cell_type": "code",
   "execution_count": 0,
   "metadata": {
    "colab": {},
    "colab_type": "code",
    "id": "zHPlzzJI9Kf-"
   },
   "outputs": [],
   "source": []
  }
 ],
 "metadata": {
  "colab": {
   "name": "assignment_13",
   "provenance": [],
   "version": "0.3.2"
  },
  "kernelspec": {
   "display_name": "Python 3",
   "language": "python",
   "name": "python3"
  },
  "language_info": {
   "codemirror_mode": {
    "name": "ipython",
    "version": 3
   },
   "file_extension": ".py",
   "mimetype": "text/x-python",
   "name": "python",
   "nbconvert_exporter": "python",
   "pygments_lexer": "ipython3",
   "version": "3.6.5"
  }
 },
 "nbformat": 4,
 "nbformat_minor": 1
}
