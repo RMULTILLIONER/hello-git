{
 "cells": [
  {
   "cell_type": "code",
   "execution_count": 3,
   "metadata": {},
   "outputs": [],
   "source": [
    "import pandas as pd"
   ]
  },
  {
   "cell_type": "code",
   "execution_count": 10,
   "metadata": {},
   "outputs": [
    {
     "name": "stdout",
     "output_type": "stream",
     "text": [
      "  Age  Contact No                      Email                Name\n",
      "0  21  8591250896      rrrravi1996@gmail.com      Ravinder Singh\n",
      "**************************************************\n",
      "  Age  Contact No                      Email                Name\n",
      "0  21  8591250896      rrrravi1996@gmail.com      Ravinder Singh\n",
      "1  21  7009521088       rrravi1996@gmail.com          Ravi Singh\n"
     ]
    }
   ],
   "source": [
    "#Question 1\n",
    "\n",
    "d={'Name':['Ravinder Singh'],'Age':['21'],'Email':['rrrravi1996@gmail.com'],'Contact No':['8591250896']}\n",
    "df=pd.DataFrame(data=d)\n",
    "print(df)\n",
    "print('*'*50)\n",
    "d={'Name':'Ravi Singh','Age':'21','Email':'rrravi1996@gmail.com','Contact No':'7009521088'}\n",
    "df=df.append(d,ignore_index=True)\n",
    "print(df)"
   ]
  },
  {
   "cell_type": "code",
   "execution_count": 11,
   "metadata": {},
   "outputs": [
    {
     "name": "stdout",
     "output_type": "stream",
     "text": [
      "        Date  Location  MinTemp  MaxTemp  Rainfall  Evaporation  Sunshine  \\\n",
      "0  11/1/2007  Canberra      8.0     24.3       0.0          3.4       6.3   \n",
      "1  11/2/2007  Canberra     14.0     26.9       3.6          4.4       9.7   \n",
      "2  11/3/2007  Canberra     13.7     23.4       3.6          5.8       3.3   \n",
      "3  11/4/2007  Canberra     13.3     15.5      39.8          7.2       9.1   \n",
      "4  11/5/2007  Canberra      7.6     16.1       2.8          5.6      10.6   \n",
      "\n",
      "  WindGustDir  WindGustSpeed WindDir9am      ...      Humidity3pm  \\\n",
      "0          NW           30.0         SW      ...               29   \n",
      "1         ENE           39.0          E      ...               36   \n",
      "2          NW           85.0          N      ...               69   \n",
      "3          NW           54.0        WNW      ...               56   \n",
      "4         SSE           50.0        SSE      ...               49   \n",
      "\n",
      "   Pressure9am  Pressure3pm  Cloud9am  Cloud3pm  Temp9am  Temp3pm  RainToday  \\\n",
      "0       1019.7       1015.0         7         7     14.4     23.6         No   \n",
      "1       1012.4       1008.4         5         3     17.5     25.7        Yes   \n",
      "2       1009.5       1007.2         8         7     15.4     20.2        Yes   \n",
      "3       1005.5       1007.0         2         7     13.5     14.1        Yes   \n",
      "4       1018.3       1018.5         7         7     11.1     15.4        Yes   \n",
      "\n",
      "   RISK_MM  RainTomorrow  \n",
      "0      3.6           Yes  \n",
      "1      3.6           Yes  \n",
      "2     39.8           Yes  \n",
      "3      2.8           Yes  \n",
      "4      0.0            No  \n",
      "\n",
      "[5 rows x 24 columns]\n"
     ]
    }
   ],
   "source": [
    "#Question 2\n",
    "\n",
    "df=pd.read_csv('weather.csv')\n",
    "print(df.head())\n"
   ]
  },
  {
   "cell_type": "code",
   "execution_count": 12,
   "metadata": {},
   "outputs": [
    {
     "name": "stdout",
     "output_type": "stream",
     "text": [
      "         Date  Location  MinTemp  MaxTemp  Rainfall  Evaporation  Sunshine  \\\n",
      "0   11/1/2007  Canberra      8.0     24.3       0.0          3.4       6.3   \n",
      "1   11/2/2007  Canberra     14.0     26.9       3.6          4.4       9.7   \n",
      "2   11/3/2007  Canberra     13.7     23.4       3.6          5.8       3.3   \n",
      "3   11/4/2007  Canberra     13.3     15.5      39.8          7.2       9.1   \n",
      "4   11/5/2007  Canberra      7.6     16.1       2.8          5.6      10.6   \n",
      "5   11/6/2007  Canberra      6.2     16.9       0.0          5.8       8.2   \n",
      "6   11/7/2007  Canberra      6.1     18.2       0.2          4.2       8.4   \n",
      "7   11/8/2007  Canberra      8.3     17.0       0.0          5.6       4.6   \n",
      "8   11/9/2007  Canberra      8.8     19.5       0.0          4.0       4.1   \n",
      "9  11/10/2007  Canberra      8.4     22.8      16.2          5.4       7.7   \n",
      "\n",
      "  WindGustDir  WindGustSpeed WindDir9am      ...      Humidity3pm  \\\n",
      "0          NW           30.0         SW      ...               29   \n",
      "1         ENE           39.0          E      ...               36   \n",
      "2          NW           85.0          N      ...               69   \n",
      "3          NW           54.0        WNW      ...               56   \n",
      "4         SSE           50.0        SSE      ...               49   \n",
      "5          SE           44.0         SE      ...               57   \n",
      "6          SE           43.0         SE      ...               47   \n",
      "7           E           41.0         SE      ...               57   \n",
      "8           S           48.0          E      ...               48   \n",
      "9           E           31.0          S      ...               32   \n",
      "\n",
      "   Pressure9am  Pressure3pm  Cloud9am  Cloud3pm  Temp9am  Temp3pm  RainToday  \\\n",
      "0       1019.7       1015.0         7         7     14.4     23.6         No   \n",
      "1       1012.4       1008.4         5         3     17.5     25.7        Yes   \n",
      "2       1009.5       1007.2         8         7     15.4     20.2        Yes   \n",
      "3       1005.5       1007.0         2         7     13.5     14.1        Yes   \n",
      "4       1018.3       1018.5         7         7     11.1     15.4        Yes   \n",
      "5       1023.8       1021.7         7         5     10.9     14.8         No   \n",
      "6       1024.6       1022.2         4         6     12.4     17.3         No   \n",
      "7       1026.2       1024.2         6         7     12.1     15.5         No   \n",
      "8       1026.1       1022.7         7         7     14.1     18.9         No   \n",
      "9       1024.1       1020.7         7         1     13.3     21.7        Yes   \n",
      "\n",
      "   RISK_MM  RainTomorrow  \n",
      "0      3.6           Yes  \n",
      "1      3.6           Yes  \n",
      "2     39.8           Yes  \n",
      "3      2.8           Yes  \n",
      "4      0.0            No  \n",
      "5      0.2            No  \n",
      "6      0.0            No  \n",
      "7      0.0            No  \n",
      "8     16.2           Yes  \n",
      "9      0.0            No  \n",
      "\n",
      "[10 rows x 24 columns]\n"
     ]
    }
   ],
   "source": [
    "print(df.head(10))"
   ]
  },
  {
   "cell_type": "code",
   "execution_count": 13,
   "metadata": {},
   "outputs": [
    {
     "name": "stdout",
     "output_type": "stream",
     "text": [
      "          MinTemp     MaxTemp    Rainfall  Evaporation    Sunshine  \\\n",
      "count  366.000000  366.000000  366.000000   366.000000  363.000000   \n",
      "mean     7.265574   20.550273    1.428415     4.521858    7.909366   \n",
      "std      6.025800    6.690516    4.225800     2.669383    3.481517   \n",
      "min     -5.300000    7.600000    0.000000     0.200000    0.000000   \n",
      "25%      2.300000   15.025000    0.000000     2.200000    5.950000   \n",
      "50%      7.450000   19.650000    0.000000     4.200000    8.600000   \n",
      "75%     12.500000   25.500000    0.200000     6.400000   10.500000   \n",
      "max     20.900000   35.800000   39.800000    13.800000   13.600000   \n",
      "\n",
      "       WindGustSpeed  WindSpeed9am  WindSpeed3pm  Humidity9am  Humidity3pm  \\\n",
      "count     364.000000    359.000000    366.000000   366.000000   366.000000   \n",
      "mean       39.840659      9.651811     17.986339    72.035519    44.519126   \n",
      "std        13.059807      7.951929      8.856997    13.137058    16.850947   \n",
      "min        13.000000      0.000000      0.000000    36.000000    13.000000   \n",
      "25%        31.000000      6.000000     11.000000    64.000000    32.250000   \n",
      "50%        39.000000      7.000000     17.000000    72.000000    43.000000   \n",
      "75%        46.000000     13.000000     24.000000    81.000000    55.000000   \n",
      "max        98.000000     41.000000     52.000000    99.000000    96.000000   \n",
      "\n",
      "       Pressure9am  Pressure3pm    Cloud9am    Cloud3pm     Temp9am  \\\n",
      "count   366.000000   366.000000  366.000000  366.000000  366.000000   \n",
      "mean   1019.709016  1016.810383    3.890710    4.024590   12.358470   \n",
      "std       6.686212     6.469422    2.956131    2.666268    5.630832   \n",
      "min     996.500000   996.800000    0.000000    0.000000    0.100000   \n",
      "25%    1015.350000  1012.800000    1.000000    1.000000    7.625000   \n",
      "50%    1020.150000  1017.400000    3.500000    4.000000   12.550000   \n",
      "75%    1024.475000  1021.475000    7.000000    7.000000   17.000000   \n",
      "max    1035.700000  1033.200000    8.000000    8.000000   24.700000   \n",
      "\n",
      "          Temp3pm     RISK_MM  \n",
      "count  366.000000  366.000000  \n",
      "mean    19.230874    1.428415  \n",
      "std      6.640346    4.225800  \n",
      "min      5.100000    0.000000  \n",
      "25%     14.150000    0.000000  \n",
      "50%     18.550000    0.000000  \n",
      "75%     24.000000    0.200000  \n",
      "max     34.500000   39.800000  \n"
     ]
    }
   ],
   "source": [
    "print(df.describe())"
   ]
  },
  {
   "cell_type": "code",
   "execution_count": 14,
   "metadata": {},
   "outputs": [
    {
     "name": "stdout",
     "output_type": "stream",
     "text": [
      "           Date  Location  MinTemp  MaxTemp  Rainfall  Evaporation  Sunshine  \\\n",
      "361  10/27/2008  Canberra      9.0     30.7       0.0          7.6      12.1   \n",
      "362  10/28/2008  Canberra      7.1     28.4       0.0         11.6      12.7   \n",
      "363  10/29/2008  Canberra     12.5     19.9       0.0          8.4       5.3   \n",
      "364  10/30/2008  Canberra     12.5     26.9       0.0          5.0       7.1   \n",
      "365  10/31/2008  Canberra     12.3     30.2       0.0          6.0      12.6   \n",
      "\n",
      "    WindGustDir  WindGustSpeed WindDir9am      ...      Humidity3pm  \\\n",
      "361         NNW           76.0        SSE      ...               15   \n",
      "362           N           48.0        NNW      ...               22   \n",
      "363         ESE           43.0        ENE      ...               47   \n",
      "364          NW           46.0        SSW      ...               39   \n",
      "365          NW           78.0         NW      ...               13   \n",
      "\n",
      "     Pressure9am  Pressure3pm  Cloud9am  Cloud3pm  Temp9am  Temp3pm  \\\n",
      "361       1016.1       1010.8         1         3     20.4     30.0   \n",
      "362       1020.0       1016.9         0         1     17.2     28.2   \n",
      "363       1024.0       1022.8         3         2     14.5     18.3   \n",
      "364       1021.0       1016.2         6         7     15.8     25.9   \n",
      "365       1009.6       1009.2         1         1     23.8     28.6   \n",
      "\n",
      "     RainToday  RISK_MM  RainTomorrow  \n",
      "361         No      0.0            No  \n",
      "362         No      0.0            No  \n",
      "363         No      0.0            No  \n",
      "364         No      0.0            No  \n",
      "365         No      0.0            No  \n",
      "\n",
      "[5 rows x 24 columns]\n"
     ]
    }
   ],
   "source": [
    "print(df.tail())"
   ]
  },
  {
   "cell_type": "code",
   "execution_count": 15,
   "metadata": {},
   "outputs": [
    {
     "name": "stdout",
     "output_type": "stream",
     "text": [
      "       Pressure9am\n",
      "count   366.000000\n",
      "mean   1019.709016\n",
      "std       6.686212\n",
      "min     996.500000\n",
      "25%    1015.350000\n",
      "50%    1020.150000\n",
      "75%    1024.475000\n",
      "max    1035.700000\n"
     ]
    }
   ],
   "source": [
    "df1=df[['Pressure9am']]\n",
    "print(df1.describe())"
   ]
  },
  {
   "cell_type": "code",
   "execution_count": null,
   "metadata": {},
   "outputs": [],
   "source": []
  }
 ],
 "metadata": {
  "kernelspec": {
   "display_name": "Python 3",
   "language": "python",
   "name": "python3"
  },
  "language_info": {
   "codemirror_mode": {
    "name": "ipython",
    "version": 3
   },
   "file_extension": ".py",
   "mimetype": "text/x-python",
   "name": "python",
   "nbconvert_exporter": "python",
   "pygments_lexer": "ipython3",
   "version": "3.6.4rc1"
  }
 },
 "nbformat": 4,
 "nbformat_minor": 2
}
