{
 "cells": [
  {
   "cell_type": "markdown",
   "metadata": {
    "colab_type": "text",
    "id": "CHHHMCOERqLJ"
   },
   "source": [
    "# Assignment_17 ->  PCA (principal of component analysis)"
   ]
  },
  {
   "cell_type": "code",
   "execution_count": 0,
   "metadata": {
    "colab": {},
    "colab_type": "code",
    "id": "ILn__NX7RmX6"
   },
   "outputs": [],
   "source": [
    "#importing libraries\n",
    "import pandas as pd\n",
    "import numpy as np\n",
    "import matplotlib.pyplot as plt"
   ]
  },
  {
   "cell_type": "markdown",
   "metadata": {
    "colab_type": "text",
    "id": "RVIyprfJVk2V"
   },
   "source": [
    "**Q-1.)**"
   ]
  },
  {
   "cell_type": "markdown",
   "metadata": {
    "colab_type": "text",
    "id": "Tw9FKKhhFMIq"
   },
   "source": [
    "***Importing MNIST dataset from sklearn***"
   ]
  },
  {
   "cell_type": "code",
   "execution_count": 4,
   "metadata": {
    "colab": {
     "base_uri": "https://localhost:8080/",
     "height": 141
    },
    "colab_type": "code",
    "id": "KyV7BX4jR04P",
    "outputId": "47617a3c-4a89-4b3c-f0c0-6bbbbe55e634"
   },
   "outputs": [
    {
     "data": {
      "text/plain": [
       "array([[ 0.,  0.,  5., ...,  0.,  0.,  0.],\n",
       "       [ 0.,  0.,  0., ..., 10.,  0.,  0.],\n",
       "       [ 0.,  0.,  0., ..., 16.,  9.,  0.],\n",
       "       ...,\n",
       "       [ 0.,  0.,  1., ...,  6.,  0.,  0.],\n",
       "       [ 0.,  0.,  2., ..., 12.,  0.,  0.],\n",
       "       [ 0.,  0., 10., ..., 12.,  1.,  0.]])"
      ]
     },
     "execution_count": 4,
     "metadata": {
      "tags": []
     },
     "output_type": "execute_result"
    }
   ],
   "source": [
    "#importing mnist dataset from sklearn\n",
    "from sklearn.datasets import load_digits \n",
    "digit = load_digits()\n",
    "digit.data"
   ]
  },
  {
   "cell_type": "markdown",
   "metadata": {
    "colab_type": "text",
    "id": "FpSTfUkbFchV"
   },
   "source": [
    "***Saving data features and targets into variables***"
   ]
  },
  {
   "cell_type": "code",
   "execution_count": 16,
   "metadata": {
    "colab": {
     "base_uri": "https://localhost:8080/",
     "height": 158
    },
    "colab_type": "code",
    "id": "8lfE-mb9U0NR",
    "outputId": "60c39272-946f-4c53-8522-defac951b7f0"
   },
   "outputs": [
    {
     "name": "stdout",
     "output_type": "stream",
     "text": [
      "[[ 0.  0.  5. ...  0.  0.  0.]\n",
      " [ 0.  0.  0. ... 10.  0.  0.]\n",
      " [ 0.  0.  0. ... 16.  9.  0.]\n",
      " ...\n",
      " [ 0.  0.  1. ...  6.  0.  0.]\n",
      " [ 0.  0.  2. ... 12.  0.  0.]\n",
      " [ 0.  0. 10. ... 12.  1.  0.]]\n",
      "[0 1 2 ... 8 9 8]\n"
     ]
    }
   ],
   "source": [
    "# data is stored in x whereas target is in y variable\n",
    "x = digit.data\n",
    "print(x)\n",
    "y = digit.target\n",
    "print(y)"
   ]
  },
  {
   "cell_type": "markdown",
   "metadata": {
    "colab_type": "text",
    "id": "wTqr-WRSFnuJ"
   },
   "source": [
    "**Q-2.) Feature scaling**"
   ]
  },
  {
   "cell_type": "code",
   "execution_count": 39,
   "metadata": {
    "colab": {
     "base_uri": "https://localhost:8080/",
     "height": 247
    },
    "colab_type": "code",
    "id": "jRE_Q-pNWXHk",
    "outputId": "502edb99-40c2-4453-bece-5c9168077a0c"
   },
   "outputs": [
    {
     "data": {
      "text/plain": [
       "array([[ 0.        , -0.33501649, -0.04308102, ..., -1.14664746,\n",
       "        -0.5056698 , -0.19600752],\n",
       "       [ 0.        , -0.33501649, -1.09493684, ...,  0.54856067,\n",
       "        -0.5056698 , -0.19600752],\n",
       "       [ 0.        , -0.33501649, -1.09493684, ...,  1.56568555,\n",
       "         1.6951369 , -0.19600752],\n",
       "       ...,\n",
       "       [ 0.        , -0.33501649, -0.88456568, ..., -0.12952258,\n",
       "        -0.5056698 , -0.19600752],\n",
       "       [ 0.        , -0.33501649, -0.67419451, ...,  0.8876023 ,\n",
       "        -0.5056698 , -0.19600752],\n",
       "       [ 0.        , -0.33501649,  1.00877481, ...,  0.8876023 ,\n",
       "        -0.26113572, -0.19600752]])"
      ]
     },
     "execution_count": 39,
     "metadata": {
      "tags": []
     },
     "output_type": "execute_result"
    }
   ],
   "source": [
    "#feature scaling using StandardScaler\n",
    "from sklearn.preprocessing import StandardScaler\n",
    "x_std = StandardScaler().fit_transform(x) \n",
    "x_std\n"
   ]
  },
  {
   "cell_type": "markdown",
   "metadata": {
    "colab_type": "text",
    "id": "Qp5xxzHYFzrR"
   },
   "source": [
    "**Q-3.)** ***Spliting dataset into training and testing***"
   ]
  },
  {
   "cell_type": "code",
   "execution_count": 0,
   "metadata": {
    "colab": {},
    "colab_type": "code",
    "id": "SAmEc4UehxTU"
   },
   "outputs": [],
   "source": [
    "#spliting data into training and testing set\n",
    "from sklearn.model_selection import train_test_split\n",
    "x_train , x_test , y_train, y_test = train_test_split(x_std , y ,test_size = 0.4, random_state = 20) \n"
   ]
  },
  {
   "cell_type": "markdown",
   "metadata": {
    "colab_type": "text",
    "id": "aNW_oTWNGB1t"
   },
   "source": [
    "**Q-4.)** ***Performing PCA***"
   ]
  },
  {
   "cell_type": "code",
   "execution_count": 0,
   "metadata": {
    "colab": {},
    "colab_type": "code",
    "id": "Su7EFU5Gwdzj"
   },
   "outputs": [],
   "source": [
    "from sklearn.decomposition import PCA\n",
    "pca = PCA(n_components = 0.96 )\n",
    "\n",
    "#fiting the training part in \n",
    "x_train = pca.fit_transform(x_train)\n",
    "\n",
    "x_test = pca.transform(x_test)\n"
   ]
  },
  {
   "cell_type": "markdown",
   "metadata": {
    "colab_type": "text",
    "id": "52XDQDgNGXWb"
   },
   "source": [
    "**Q-5.)** ***Classification through Logistic Regression***"
   ]
  },
  {
   "cell_type": "code",
   "execution_count": 62,
   "metadata": {
    "colab": {
     "base_uri": "https://localhost:8080/",
     "height": 87
    },
    "colab_type": "code",
    "id": "MIhdO1BtzcqE",
    "outputId": "dd1f3c87-4340-466c-c265-4279932fa986"
   },
   "outputs": [
    {
     "data": {
      "text/plain": [
       "LogisticRegression(C=1.0, class_weight=None, dual=False, fit_intercept=True,\n",
       "          intercept_scaling=1, max_iter=100, multi_class='ovr', n_jobs=1,\n",
       "          penalty='l2', random_state=None, solver='liblinear', tol=0.0001,\n",
       "          verbose=0, warm_start=False)"
      ]
     },
     "execution_count": 62,
     "metadata": {
      "tags": []
     },
     "output_type": "execute_result"
    }
   ],
   "source": [
    "#Classification usng logistic regression model\n",
    "from sklearn.linear_model import LogisticRegression\n",
    "log = LogisticRegression()\n",
    "\n",
    "#fiting the training part into model\n",
    "log.fit(x_train , y_train)"
   ]
  },
  {
   "cell_type": "code",
   "execution_count": 0,
   "metadata": {
    "colab": {},
    "colab_type": "code",
    "id": "GE48OacwBegm"
   },
   "outputs": [],
   "source": [
    "#prediction over model\n",
    "prediction = log.predict(x_test)"
   ]
  },
  {
   "cell_type": "markdown",
   "metadata": {
    "colab_type": "text",
    "id": "mRDr2T_rGlLo"
   },
   "source": [
    "**Q-6.) **"
   ]
  },
  {
   "cell_type": "markdown",
   "metadata": {
    "colab_type": "text",
    "id": "E9Ow9JXIGysj"
   },
   "source": [
    "**a.) Accuracy Score**"
   ]
  },
  {
   "cell_type": "code",
   "execution_count": 64,
   "metadata": {
    "colab": {
     "base_uri": "https://localhost:8080/",
     "height": 34
    },
    "colab_type": "code",
    "id": "YlsFYo-BB6kP",
    "outputId": "bcfeb157-df45-4fb9-9562-76cfcfd872d7"
   },
   "outputs": [
    {
     "data": {
      "text/plain": [
       "0.9401947148817803"
      ]
     },
     "execution_count": 64,
     "metadata": {
      "tags": []
     },
     "output_type": "execute_result"
    }
   ],
   "source": [
    "#accuracy score\n",
    "from sklearn.metrics import accuracy_score\n",
    "accuracy_score(y_test , prediction)"
   ]
  },
  {
   "cell_type": "markdown",
   "metadata": {
    "colab_type": "text",
    "id": "5RD0elAdG8r8"
   },
   "source": [
    "**b.) Confusion matrix**"
   ]
  },
  {
   "cell_type": "code",
   "execution_count": 65,
   "metadata": {
    "colab": {
     "base_uri": "https://localhost:8080/",
     "height": 194
    },
    "colab_type": "code",
    "id": "hN2mD8hjCusT",
    "outputId": "8e3fd88c-50aa-49b6-e2c4-0ca3e6b5a274"
   },
   "outputs": [
    {
     "data": {
      "text/plain": [
       "array([[62,  0,  1,  0,  0,  0,  0,  0,  0,  0],\n",
       "       [ 0, 72,  1,  1,  0,  0,  0,  0,  0,  1],\n",
       "       [ 0,  0, 63,  0,  0,  0,  0,  0,  0,  0],\n",
       "       [ 0,  0,  0, 71,  0,  3,  0,  1,  4,  1],\n",
       "       [ 0,  0,  0,  0, 73,  0,  0,  1,  1,  0],\n",
       "       [ 1,  0,  0,  0,  0, 69,  0,  0,  0,  1],\n",
       "       [ 0,  2,  0,  0,  2,  0, 67,  0,  0,  0],\n",
       "       [ 0,  0,  0,  1,  0,  0,  0, 78,  0,  1],\n",
       "       [ 0,  3,  0,  0,  0,  2,  2,  0, 56,  1],\n",
       "       [ 1,  1,  0,  0,  0,  3,  0,  1,  6, 65]])"
      ]
     },
     "execution_count": 65,
     "metadata": {
      "tags": []
     },
     "output_type": "execute_result"
    }
   ],
   "source": [
    "# Confusion Matrix\n",
    "from sklearn.metrics import confusion_matrix\n",
    "confusion_matrix(y_test , prediction)"
   ]
  },
  {
   "cell_type": "markdown",
   "metadata": {
    "colab_type": "text",
    "id": "8cO5qMUaHAYG"
   },
   "source": [
    "**c.) Classification Report**"
   ]
  },
  {
   "cell_type": "code",
   "execution_count": 66,
   "metadata": {
    "colab": {
     "base_uri": "https://localhost:8080/",
     "height": 54
    },
    "colab_type": "code",
    "id": "5ZlHiq-yEMLm",
    "outputId": "8aa6086c-ee67-4d91-c4c5-dbe3879ff32d"
   },
   "outputs": [
    {
     "data": {
      "text/plain": [
       "'             precision    recall  f1-score   support\\n\\n          0      0.969     0.984     0.976        63\\n          1      0.923     0.960     0.941        75\\n          2      0.969     1.000     0.984        63\\n          3      0.973     0.887     0.928        80\\n          4      0.973     0.973     0.973        75\\n          5      0.896     0.972     0.932        71\\n          6      0.971     0.944     0.957        71\\n          7      0.963     0.975     0.969        80\\n          8      0.836     0.875     0.855        64\\n          9      0.929     0.844     0.884        77\\n\\navg / total      0.941     0.940     0.940       719\\n'"
      ]
     },
     "execution_count": 66,
     "metadata": {
      "tags": []
     },
     "output_type": "execute_result"
    }
   ],
   "source": [
    "# Classification report\n",
    "from sklearn.metrics import classification_report\n",
    "classification_report(y_test , prediction,labels = None, digits = 3)"
   ]
  },
  {
   "cell_type": "code",
   "execution_count": 0,
   "metadata": {
    "colab": {},
    "colab_type": "code",
    "id": "ERJB2__ME68f"
   },
   "outputs": [],
   "source": []
  }
 ],
 "metadata": {
  "colab": {
   "include_colab_link": true,
   "name": "assignment_17.ipynb",
   "provenance": [],
   "version": "0.3.2"
  },
  "kernelspec": {
   "display_name": "Python 3",
   "language": "python",
   "name": "python3"
  },
  "language_info": {
   "codemirror_mode": {
    "name": "ipython",
    "version": 3
   },
   "file_extension": ".py",
   "mimetype": "text/x-python",
   "name": "python",
   "nbconvert_exporter": "python",
   "pygments_lexer": "ipython3",
   "version": "3.6.5"
  }
 },
 "nbformat": 4,
 "nbformat_minor": 1
}
